{
 "cells": [
  {
   "cell_type": "code",
   "execution_count": null,
   "metadata": {},
   "outputs": [],
   "source": [
    "import pandas as pd\n",
    "\n",
    "#Load the dataset\n",
    "hour_df = pd.read_csv('EDA\\hour.csv')\n",
    "\n",
    "#Rename 'cnt' column to 'count'\n",
    "hour_df.rename(columns={'cnt': 'count'}, inplace=True)\n",
    "hour_df.rename(columns={'yr': 'year'}, inplace=True)\n",
    "hour_df.rename(columns={'mnth': 'month'}, inplace=True)\n",
    "hour_df.rename(columns={'hr': 'hour'}, inplace=True)\n",
    "hour_df.rename(columns={'temp': 'temperature'}, inplace=True)\n",
    "hour_df.rename(columns={'dteday': 'date'}, inplace=True)\n",
    "hour_df.rename(columns={'weathersit': 'weather'}, inplace=True)\n",
    "hour_df.rename(columns={'hum': 'humidity'}, inplace=True)\n",
    "\n",
    "#List of irrelevant columns for analysis\n",
    "columns_to_exclude_from_analysis = ['holiday', 'workingday', 'atemp', 'casual', 'registered']\n",
    "\n",
    "#Keep all columns in the DataFrame but exclude the ones from analysis\n",
    "hour_df_cleaned = hour_df.drop(columns=columns_to_exclude_from_analysis)\n",
    "\n",
    "#Check for missing values\n",
    "print(hour_df_cleaned.isnull().sum())\n",
    "\n",
    "#Drop rows with missing values (if any)\n",
    "hour_df_cleaned.dropna(inplace=True)\n",
    "\n",
    "#Check for duplicates and drop them\n",
    "hour_df_cleaned.drop_duplicates(inplace=True)\n",
    "\n",
    "#IQR for hourly data (only for 'count' column)\n",
    "Q1_hour = hour_df_cleaned['count'].quantile(0.25)\n",
    "Q3_hour = hour_df_cleaned['count'].quantile(0.75)\n",
    "IQR_hour = Q3_hour - Q1_hour\n",
    "hour_df_cleaned = hour_df_cleaned[(hour_df_cleaned['count'] >= (Q1_hour - 1.5 * IQR_hour)) & (hour_df_cleaned['count'] <= (Q3_hour + 1.5 * IQR_hour))]\n",
    "\n",
    "#Save the cleaned data to a new CSV file with all columns included\n",
    "hour_df_cleaned.to_csv('cleaned_hourly_bike_data.csv', index=False) "
   ]
  }
 ],
 "metadata": {
  "language_info": {
   "name": "python"
  }
 },
 "nbformat": 4,
 "nbformat_minor": 2
}
