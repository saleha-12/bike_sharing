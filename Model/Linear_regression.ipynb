{
 "cells": [
  {
   "cell_type": "code",
   "execution_count": 2,
   "metadata": {},
   "outputs": [],
   "source": [
    "import pandas as pd\n",
    "import numpy as np\n",
    "from sklearn.model_selection import train_test_split\n",
    "from sklearn.preprocessing import OneHotEncoder, StandardScaler\n",
    "from sklearn.linear_model import LinearRegression\n",
    "from sklearn.metrics import mean_squared_error, mean_absolute_error, r2_score\n",
    "\n",
    "# Load the dataset\n",
    "data = pd.read_csv('C:/Users/efren/Desktop/DSCI/final project/hour.csv')  # Replace with actual file path\n",
    "\n",
    "# Define features and target\n",
    "X = data.drop(columns=['cnt'])  # Predictors\n",
    "y = data['cnt']  # Target variable\n",
    "\n",
    "# Identify categorical and numerical columns\n",
    "categorical_features = ['season', 'yr', 'mnth', 'hr', 'weekday', 'weathersit']\n",
    "numerical_features = ['temp', 'hum', 'windspeed']\n",
    "\n",
    "# Outlier Detection for the target variable y\n",
    "Q1 = y.quantile(0.25)\n",
    "Q3 = y.quantile(0.75)\n",
    "IQR = Q3 - Q1\n",
    "\n",
    "# outliers in y\n",
    "outliers = (y < (Q1 - 1.5 * IQR)) | (y > (Q3 + 1.5 * IQR))\n",
    "\n",
    "\n",
    "# Remove outliers from y and the corresponding rows in X\n",
    "X_cleaned = X[~outliers]\n",
    "y_cleaned = y[~outliers]\n",
    "\n",
    "# One-hot encode categorical variables\n",
    "encoder = OneHotEncoder(handle_unknown='ignore', sparse_output=False)\n",
    "X_cat = encoder.fit_transform(X_cleaned[categorical_features])\n",
    "\n",
    "# Scale numerical features\n",
    "scaler = StandardScaler()\n",
    "X_num = scaler.fit_transform(X_cleaned[numerical_features])\n",
    "\n",
    "# Combine transformed features\n",
    "X_transformed = np.hstack((X_num, X_cat))\n",
    "\n",
    "# Split data into training and testing sets\n",
    "X_train, X_test, y_train, y_test = train_test_split(X_transformed, y_cleaned, test_size=0.2, random_state=42)\n",
    "\n",
    "# Train Linear Regression model\n",
    "model = LinearRegression()\n",
    "model.fit(X_train, y_train)\n",
    "\n",
    "# Make predictions\n",
    "y_pred = model.predict(X_test)\n",
    "\n"
   ]
  },
  {
   "cell_type": "code",
   "execution_count": 3,
   "metadata": {},
   "outputs": [
    {
     "name": "stdout",
     "output_type": "stream",
     "text": [
      "Mean Squared Error: 7547.122785651313\n",
      "Mean absolute Error: 65.29561220765036\n",
      "R² Score: 0.6760534519308121\n"
     ]
    }
   ],
   "source": [
    "# linear regression Evaluate the model. new metric\n",
    "mse = mean_squared_error(y_test, y_pred)\n",
    "mae = mean_absolute_error(y_test, y_pred)\n",
    "print(f'Mean Squared Error: {mse}')\n",
    "print(f'Mean absolute Error: {mae}')\n",
    "# Calculate R² score\n",
    "r2 = r2_score(y_test, y_pred)\n",
    "print(f'R² Score: {r2}')"
   ]
  }
 ],
 "metadata": {
  "kernelspec": {
   "display_name": "dsi_participant",
   "language": "python",
   "name": "python3"
  },
  "language_info": {
   "codemirror_mode": {
    "name": "ipython",
    "version": 3
   },
   "file_extension": ".py",
   "mimetype": "text/x-python",
   "name": "python",
   "nbconvert_exporter": "python",
   "pygments_lexer": "ipython3",
   "version": "3.9.15"
  }
 },
 "nbformat": 4,
 "nbformat_minor": 2
}
