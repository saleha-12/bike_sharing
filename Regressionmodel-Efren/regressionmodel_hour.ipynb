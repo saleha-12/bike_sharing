{
 "cells": [
  {
   "cell_type": "code",
   "execution_count": 2,
   "metadata": {},
   "outputs": [],
   "source": [
    "import pandas as pd\n",
    "import numpy as np\n",
    "from sklearn.model_selection import train_test_split\n",
    "from sklearn.preprocessing import OneHotEncoder, StandardScaler\n",
    "from sklearn.linear_model import LinearRegression\n",
    "from sklearn.metrics import mean_squared_error, mean_absolute_error, r2_score\n",
    "\n",
    "# Load the dataset\n",
    "data = pd.read_csv('C:/Users/efren/Desktop/DSCI/final project/hour.csv')  # Replace with actual file path\n",
    "\n",
    "# Define features and target\n",
    "X = data.drop(columns=['cnt'])  # Predictors\n",
    "y = data['cnt']  # Target variable\n",
    "\n",
    "# Identify categorical and numerical columns\n",
    "categorical_features = ['season', 'yr', 'mnth', 'hr', 'weekday', 'weathersit']\n",
    "numerical_features = ['temp', 'hum', 'windspeed']\n",
    "\n",
    "# Outlier Detection for the target variable y\n",
    "Q1 = y.quantile(0.25)\n",
    "Q3 = y.quantile(0.75)\n",
    "IQR = Q3 - Q1\n",
    "\n",
    "# outliers in y\n",
    "outliers = (y < (Q1 - 1.5 * IQR)) | (y > (Q3 + 1.5 * IQR))\n",
    "\n",
    "\n",
    "# Remove outliers from y and the corresponding rows in X\n",
    "X_cleaned = X[~outliers]\n",
    "y_cleaned = y[~outliers]\n",
    "\n",
    "# One-hot encode categorical variables\n",
    "encoder = OneHotEncoder(handle_unknown='ignore', sparse_output=False)\n",
    "X_cat = encoder.fit_transform(X_cleaned[categorical_features])\n",
    "\n",
    "# Scale numerical features\n",
    "scaler = StandardScaler()\n",
    "X_num = scaler.fit_transform(X_cleaned[numerical_features])\n",
    "\n",
    "# Combine transformed features\n",
    "X_transformed = np.hstack((X_num, X_cat))\n",
    "\n",
    "# Split data into training and testing sets\n",
    "X_train, X_test, y_train, y_test = train_test_split(X_transformed, y_cleaned, test_size=0.2, random_state=42)\n",
    "\n",
    "# Train Linear Regression model\n",
    "model = LinearRegression()\n",
    "model.fit(X_train, y_train)\n",
    "\n",
    "# Make predictions\n",
    "y_pred = model.predict(X_test)\n",
    "\n"
   ]
  },
  {
   "cell_type": "code",
   "execution_count": 3,
   "metadata": {},
   "outputs": [
    {
     "name": "stdout",
     "output_type": "stream",
     "text": [
      "Mean Squared Error: 7547.122785651313\n",
      "Mean absolute Error: 65.29561220765036\n",
      "R² Score: 0.6760534519308121\n"
     ]
    }
   ],
   "source": [
    "# linear regression Evaluate the model. new metric\n",
    "mse = mean_squared_error(y_test, y_pred)\n",
    "mae = mean_absolute_error(y_test, y_pred)\n",
    "print(f'Mean Squared Error: {mse}')\n",
    "print(f'Mean absolute Error: {mae}')\n",
    "# Calculate R² score\n",
    "r2 = r2_score(y_test, y_pred)\n",
    "print(f'R² Score: {r2}')"
   ]
  },
  {
   "cell_type": "code",
   "execution_count": 4,
   "metadata": {},
   "outputs": [
    {
     "name": "stdout",
     "output_type": "stream",
     "text": [
      "Random Forest Regression Performance:\n",
      "Mean Squared Error: 2500.66\n",
      "Mean Absolute Error: 32.13\n",
      "R² Score: 0.8927\n"
     ]
    }
   ],
   "source": [
    "from sklearn.ensemble import RandomForestRegressor\n",
    "\n",
    "# Random Forest Regression model\n",
    "rf_model = RandomForestRegressor(n_estimators=100, random_state=42)\n",
    "rf_model.fit(X_train, y_train)\n",
    "\n",
    "# Make predictions with Random Forest\n",
    "y_pred_rf = rf_model.predict(X_test)\n",
    "\n",
    "# Evaluate Random Forest Regression model\n",
    "mse_rf = mean_squared_error(y_test, y_pred_rf)\n",
    "mae_rf = mean_absolute_error(y_test, y_pred_rf)\n",
    "r2_rf = r2_score(y_test, y_pred_rf)\n",
    "\n",
    "# Print performance metrics\n",
    "print(\"Random Forest Regression Performance:\")\n",
    "print(f\"Mean Squared Error: {mse_rf:.2f}\")\n",
    "print(f\"Mean Absolute Error: {mae_rf:.2f}\")\n",
    "print(f\"R² Score: {r2_rf:.4f}\")"
   ]
  },
  {
   "cell_type": "code",
   "execution_count": 5,
   "metadata": {},
   "outputs": [
    {
     "name": "stdout",
     "output_type": "stream",
     "text": [
      "Gradient Boosting Regression Performance:\n",
      "Mean Squared Error: 6188.40\n",
      "Mean Absolute Error: 56.91\n",
      "R² Score: 0.7344\n"
     ]
    }
   ],
   "source": [
    "from sklearn.ensemble import GradientBoostingRegressor\n",
    "\n",
    "# Gradient Boosting Regression model\n",
    "gb_model = GradientBoostingRegressor(n_estimators=100, learning_rate=0.1, max_depth=3, random_state=42)\n",
    "gb_model.fit(X_train, y_train)\n",
    "\n",
    "# Make predictions with Gradient Boosting\n",
    "y_pred_gb = gb_model.predict(X_test)\n",
    "\n",
    "# Evaluate Gradient Boosting Regression model\n",
    "mse_gb = mean_squared_error(y_test, y_pred_gb)\n",
    "mae_gb = mean_absolute_error(y_test, y_pred_gb)\n",
    "r2_gb = r2_score(y_test, y_pred_gb)\n",
    "\n",
    "# Print performance metrics\n",
    "print(\"Gradient Boosting Regression Performance:\")\n",
    "print(f\"Mean Squared Error: {mse_gb:.2f}\")\n",
    "print(f\"Mean Absolute Error: {mae_gb:.2f}\")\n",
    "print(f\"R² Score: {r2_gb:.4f}\")"
   ]
  }
 ],
 "metadata": {
  "kernelspec": {
   "display_name": "dsi_participant",
   "language": "python",
   "name": "python3"
  },
  "language_info": {
   "codemirror_mode": {
    "name": "ipython",
    "version": 3
   },
   "file_extension": ".py",
   "mimetype": "text/x-python",
   "name": "python",
   "nbconvert_exporter": "python",
   "pygments_lexer": "ipython3",
   "version": "3.9.15"
  }
 },
 "nbformat": 4,
 "nbformat_minor": 2
}
