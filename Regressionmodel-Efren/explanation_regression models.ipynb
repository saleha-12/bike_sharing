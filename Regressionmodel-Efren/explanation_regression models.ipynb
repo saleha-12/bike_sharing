{
 "cells": [
  {
   "cell_type": "markdown",
   "metadata": {},
   "source": [
    "In our analysis, we tested three different regression models to predict bike rentals: Linear Regression, Decision Tree Regressor, and Random Forest Regressor. Each model was evaluated based on its accuracy and error rates.\n",
    "\n",
    "Linear Regression assumes a simple, straight-line relationship between the input features and bike rentals. However, this approach struggles to capture complex patterns in the data. The model had a Mean Squared Error (MSE) of 7074.59 and a Mean Absolute Error (MAE) of 62.64. MAE indicates that, on average, the model’s predictions were off by 62.64 rental bikes. A smaller MAE signifies better accuracy. The R² score was 0.671, meaning the model could explain only 67.1% of the variation in bike rentals. While this is a decent result, it shows that linear regression lacks the flexibility to accurately model the data.\n",
    "\n",
    "Next, we used a Decision Tree Regressor, which can better capture non-linear relationships in the dataset. This model significantly improved accuracy, reducing the MSE to 4722.81 and MAE to 39.54. MAE means that, on average, the model’s predictions were off by 39.54 rental bikes, an improvement over linear regression. The R² score increased to 0.780, meaning it explained 78% of the variation in bike rentals. However, decision trees have a tendency to overfit, meaning they might perform well on training data but may not generalize well to new data.\n",
    "\n",
    "Finally, we used a Random Forest Regressor, which combines multiple decision trees to improve stability and accuracy. This model performed the best, with an MSE of 2527.64 and an MAE of 30.35. This MAE shows that, on average, the model’s predictions were off by 30.35 rental bikes, making it the most accurate among the three models. The R² score was 0.882, meaning it could explain 88.2% of the variation in bike rentals. Because Random Forest averages multiple trees, it reduces overfitting and provides more reliable predictions.\n",
    "\n",
    "Random Forest Regression\n",
    "\n",
    "•\tUses multiple decision trees and averages their predictions.\n",
    "\n",
    "•\tEach tree works by splitting the data at different points to create regions with similar target values.\n",
    "\n",
    "•\tThe final prediction is the average output of all trees.\n",
    "\n",
    "•\tCaptures non-linear relationships (bike rentals are influenced by many non-linear factors).\n",
    "\n",
    "•\tLess sensitive to outliers since multiple trees reduce their impact.\n"
   ]
  }
 ],
 "metadata": {
  "language_info": {
   "name": "python"
  }
 },
 "nbformat": 4,
 "nbformat_minor": 2
}
